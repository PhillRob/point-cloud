{
 "cells": [
  {
   "cell_type": "code",
   "execution_count": null,
   "metadata": {},
   "outputs": [],
   "source": [
    "subset = npcloud[npcloud[:,7] == 498, ]\n",
    "\n",
    "subsetBase = np.copy(subset)\n",
    "\n",
    "# xmin =np.mean(subset[subset[:,0]==min(subset[:,0]),2:3])\n",
    "# xmax = np.mean(subset[subset[:,0]==max(subset[:,0]),2:3])\n",
    "# ymin = np.mean(subset[subset[:,1]==min(subset[:,1]),2:3])\n",
    "# ymax = np.mean(subset[subset[:,1]==max(subset[:,1]),2:3])\n",
    "# mean = np.mean([xmin,xmax,ymin,ymax])\n",
    "p = np.percentile(subsetBase[:,2], 10)\n",
    "subsetBase[:,2]  = p\n",
    "# subsetBase[:,2]  = min(subset[:,2])\n",
    "base = np.append(subset, subsetBase, axis=0)\n",
    "\n",
    "\n",
    "baseAr = [tuple(row) for row in base[:,0:3]]\n",
    "baseAr = np.unique(baseAr, axis=0)\n",
    "height = max(subset[:,2])-p\n",
    "pcd = o3d.geometry.PointCloud()\n",
    "pcd.points = o3d.utility.Vector3dVector(baseAr[:, :3])\n",
    "pcd.estimate_normals()\n",
    "pcd.compute_convex_hull()\n",
    "    \n",
    "\n",
    "\n",
    "\n",
    "# pcl = subsetBase.sample_points_poisson_disk(number_of_points=2000)\n",
    "hull, _ = pcd.compute_convex_hull()\n",
    "hull_ls = o3d.geometry.LineSet.create_from_triangle_mesh(hull)\n",
    "hull_ls.paint_uniform_color((1, 0, 0))\n"
   ]
  },
  {
   "cell_type": "code",
   "execution_count": null,
   "metadata": {},
   "outputs": [],
   "source": [
    "# o3d.visualization.draw_geometries([hull_ls, hull])\n",
    "hull.get_volume()\n",
    "height"
   ]
  }
 ],
 "metadata": {
  "language_info": {
   "name": "python"
  }
 },
 "nbformat": 4,
 "nbformat_minor": 2
}
